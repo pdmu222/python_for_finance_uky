{
 "cells": [
  {
   "cell_type": "markdown",
   "metadata": {},
   "source": [
    "<span style=\"font-size:300%; text-align: center;\"><b> Python Pandas Basics </b></span>"
   ]
  },
  {
   "cell_type": "markdown",
   "metadata": {},
   "source": [
    "- Pandas comes from \"Panel Data\".\n",
    "- It is a Python library designed help with this type of data.\n",
    "- It is very useful for manipulating data and performing some basic analysis.\n",
    "- Pandas dataframe can used directly with other libraries for analysis.\n",
    "- There are two main objects: the Series and the Dataframe.\n",
    "\n",
    "\n",
    "To start, let's import pandas\n"
   ]
  },
  {
   "cell_type": "code",
   "execution_count": null,
   "metadata": {},
   "outputs": [],
   "source": [
    "import pandas as pd  # we import pandas \"as pd\", which means we refer to pandas as pd throughout the code."
   ]
  },
  {
   "cell_type": "markdown",
   "metadata": {},
   "source": [
    "# The DataFrame\n",
    "\n",
    "To get a sense of how Pandas works, we'll look at a dataframe. Before we do, we'll construct the data with a dictionary, which should be familiar from the previous notebook:"
   ]
  },
  {
   "cell_type": "code",
   "execution_count": null,
   "metadata": {},
   "outputs": [],
   "source": [
    "stock_dictionary = {'AAPL': [168, 170, 172], 'MSFT':[78, 80, 82],'AMZN':[1123, 1125, 1127],'KR': [22, 24, 26]}\n",
    "print(stock_dictionary)"
   ]
  },
  {
   "cell_type": "markdown",
   "metadata": {},
   "source": [
    "There are several ways to create a dataframe. You can do this from a dictionary like this:"
   ]
  },
  {
   "cell_type": "code",
   "execution_count": null,
   "metadata": {},
   "outputs": [],
   "source": [
    "stock_df = pd.DataFrame(stock_dictionary)\n",
    "print(stock_df)"
   ]
  },
  {
   "cell_type": "markdown",
   "metadata": {},
   "source": [
    "The dataframe has four columns and three rows. I didn't specificy what this was, but we could think of it as the prices for some assets over three periods. Within the dataframe, each column can be manipulated as an individual series. \n",
    "\n",
    "For example, let's look at 'AAPL'\n",
    "\n",
    "## Each column of a dataframe is a series:"
   ]
  },
  {
   "cell_type": "code",
   "execution_count": null,
   "metadata": {},
   "outputs": [],
   "source": [
    "aapl = stock_df['AAPL'] # we take stock_df and select column 'AAPL'; we make a series called aapl"
   ]
  },
  {
   "cell_type": "code",
   "execution_count": null,
   "metadata": {},
   "outputs": [],
   "source": [
    "print(aapl)"
   ]
  },
  {
   "cell_type": "markdown",
   "metadata": {},
   "source": [
    "Something to be aware of: setting a series equal to a column does not make a copy - they refer to the same object.\n",
    "\n",
    "\n",
    "What is the first row of aapl? (A series is indexed similar to a string. To call the index, we must use the iloc function)"
   ]
  },
  {
   "cell_type": "code",
   "execution_count": null,
   "metadata": {},
   "outputs": [],
   "source": [
    "aapl.iloc[0]"
   ]
  },
  {
   "cell_type": "markdown",
   "metadata": {},
   "source": [
    "It's the same as in the dataframe. What happens if we change it to zero?"
   ]
  },
  {
   "cell_type": "code",
   "execution_count": null,
   "metadata": {},
   "outputs": [],
   "source": [
    "aapl.iloc[0] = 0\n",
    "\n",
    "print(stock_df)"
   ]
  },
  {
   "cell_type": "markdown",
   "metadata": {},
   "source": [
    "It also changes in stock df; the series aapl refers to the series stock_df['AAPL']\n",
    "\n",
    "\n",
    "\n",
    "## Let's get some more data. An example from Alpha Vantage:\n",
    "\n",
    "Pandas can read many different file formats. Alpha Vantage has free stock price data through an API. Here, I'll use the demo (which has a demo authorization key) to get MSFT in CSV format."
   ]
  },
  {
   "cell_type": "code",
   "execution_count": null,
   "metadata": {},
   "outputs": [],
   "source": [
    "df = pd.read_csv(r'https://www.alphavantage.co/query?function=TIME_SERIES_DAILY&symbol=MSFT&apikey=demo&datatype=csv')"
   ]
  },
  {
   "cell_type": "code",
   "execution_count": null,
   "metadata": {},
   "outputs": [],
   "source": [
    "print(df.head()) # df.head() gives us the top few rows. We see that the first observations are the last chronologically\n",
    "# df.head(200) would give us 200 rows"
   ]
  },
  {
   "cell_type": "code",
   "execution_count": null,
   "metadata": {},
   "outputs": [],
   "source": [
    "print(df.tail()) # we can also look at the tail"
   ]
  },
  {
   "cell_type": "markdown",
   "metadata": {},
   "source": [
    "### Time Series Data : the DateTime Variable\n",
    "\n",
    "What kind of variable is timestamp?"
   ]
  },
  {
   "cell_type": "code",
   "execution_count": null,
   "metadata": {},
   "outputs": [],
   "source": [
    "print(df.timestamp.dtype)"
   ]
  },
  {
   "cell_type": "markdown",
   "metadata": {},
   "source": [
    "Object: That's a string. We can't do any datetime operations with strings. We'll need to convert that:"
   ]
  },
  {
   "cell_type": "code",
   "execution_count": null,
   "metadata": {},
   "outputs": [],
   "source": [
    "df['timestamp'] = pd.to_datetime(df.timestamp)\n",
    "print(df.timestamp.dtype)"
   ]
  },
  {
   "cell_type": "code",
   "execution_count": null,
   "metadata": {},
   "outputs": [],
   "source": [
    "print(df.timestamp.head()) #it looks the same but it's very different."
   ]
  },
  {
   "cell_type": "markdown",
   "metadata": {},
   "source": [
    "With timestamp as a datetime64, we can apply all kinds of time series functions:"
   ]
  },
  {
   "cell_type": "code",
   "execution_count": null,
   "metadata": {},
   "outputs": [],
   "source": [
    "df['year'] = df.timestamp.dt.year\n",
    "df['month'] = df.timestamp.dt.month\n",
    "print(df.head())"
   ]
  },
  {
   "cell_type": "markdown",
   "metadata": {},
   "source": [
    "I prefer the chronology to go from top to bottom, so let's sort on date:"
   ]
  },
  {
   "cell_type": "code",
   "execution_count": null,
   "metadata": {},
   "outputs": [],
   "source": [
    "df.sort_values('timestamp').head()"
   ]
  },
  {
   "cell_type": "markdown",
   "metadata": {},
   "source": [
    "If we call df again, the sort will not have been preserved:"
   ]
  },
  {
   "cell_type": "code",
   "execution_count": null,
   "metadata": {},
   "outputs": [],
   "source": [
    "df.head()"
   ]
  },
  {
   "cell_type": "markdown",
   "metadata": {},
   "source": [
    "To properly sort, we have to add \"inplace=True\" or set the df = df.sort_values('timestamp)"
   ]
  },
  {
   "cell_type": "code",
   "execution_count": null,
   "metadata": {},
   "outputs": [],
   "source": [
    "df = df.sort_values('timestamp')\n",
    "#df.sort_values('timestamp', inplace=True) # does the same thing"
   ]
  },
  {
   "cell_type": "code",
   "execution_count": null,
   "metadata": {},
   "outputs": [],
   "source": [
    "df.head(10)"
   ]
  },
  {
   "cell_type": "markdown",
   "metadata": {},
   "source": [
    "# Data Manipulation: Calculate Returns and Amihud (2002) Illiquidity Ratio\n",
    "\n",
    "- Let's get returns close-to-close\n",
    "- Amihud Illiquidity comes from: \n",
    "\n",
    "Amihud, Yakov. \"Illiquidity and stock returns: cross-section and time-series effects.\" Journal of financial markets 5, no. 1 (2002): 31-56."
   ]
  },
  {
   "cell_type": "code",
   "execution_count": null,
   "metadata": {},
   "outputs": [],
   "source": [
    "df['l_close'] = df.close.shift(1)"
   ]
  },
  {
   "cell_type": "code",
   "execution_count": null,
   "metadata": {},
   "outputs": [],
   "source": [
    "df.head(10)"
   ]
  },
  {
   "cell_type": "code",
   "execution_count": null,
   "metadata": {},
   "outputs": [],
   "source": [
    "df['return'] = (df.close - df.l_close)/df.l_close # manipulating series is similar to manipulating variables in Stata"
   ]
  },
  {
   "cell_type": "code",
   "execution_count": null,
   "metadata": {},
   "outputs": [],
   "source": [
    "df.head(10)"
   ]
  },
  {
   "cell_type": "markdown",
   "metadata": {},
   "source": [
    "Amihud is equal to the average daily absolute return divided by total dollar volume:\n",
    "\n",
    "\n",
    "$ Amihud = \\dfrac{1}{T} \\sum_{t=1}^T \\dfrac{{\\mid R_t\\mid}}{Price_t \\times Volume_t}$\n",
    "\n",
    "It looks like volume in our data is already in dollars. Let's calculate Amihud monthly with a grouby()\n",
    "\n",
    "We'll need to import numpy"
   ]
  },
  {
   "cell_type": "code",
   "execution_count": null,
   "metadata": {},
   "outputs": [],
   "source": [
    "import numpy as np\n",
    "\n",
    "df['absret'] = np.abs(df['return']) # I have to write it with the index because return is a reserved word for a method\n",
    "df['absret_vol'] = df.absret / df.volume"
   ]
  },
  {
   "cell_type": "code",
   "execution_count": null,
   "metadata": {},
   "outputs": [],
   "source": [
    "df.head()"
   ]
  },
  {
   "cell_type": "code",
   "execution_count": null,
   "metadata": {},
   "outputs": [],
   "source": [
    "amihud = df.groupby(['month'])['absret_vol'].mean() # this creates a new series called amihud. it's outside of the df"
   ]
  },
  {
   "cell_type": "code",
   "execution_count": null,
   "metadata": {},
   "outputs": [],
   "source": [
    "amihud"
   ]
  },
  {
   "cell_type": "markdown",
   "metadata": {},
   "source": [
    "If we only have on observation per month, chances are we don't need an entire column in our dataframe with redundant information. This is one feature I like about Pandas over Stata. We can have multiple \"datasets\" open simultaneously in memory. If we want to make amihud another column in our original df, we have to apply a function:"
   ]
  },
  {
   "cell_type": "code",
   "execution_count": null,
   "metadata": {},
   "outputs": [],
   "source": [
    "df['amihud'] = df.groupby(['month'])['absret_vol'].transform(lambda x: x.mean())"
   ]
  },
  {
   "cell_type": "code",
   "execution_count": null,
   "metadata": {},
   "outputs": [],
   "source": [
    "df.head(20)"
   ]
  },
  {
   "cell_type": "markdown",
   "metadata": {},
   "source": [
    "## Some Plotting Functions\n",
    "\n",
    "Pandas can make graphs by using Matplotlib in the background.\n",
    "\n",
    "What does the time series of returns look like?"
   ]
  },
  {
   "cell_type": "code",
   "execution_count": null,
   "metadata": {},
   "outputs": [],
   "source": [
    "print(df['return'].plot.line())"
   ]
  },
  {
   "cell_type": "markdown",
   "metadata": {},
   "source": [
    "Can we get a histogram?"
   ]
  },
  {
   "cell_type": "code",
   "execution_count": null,
   "metadata": {},
   "outputs": [],
   "source": [
    "print(df['return'].plot.hist(bins=20))"
   ]
  },
  {
   "cell_type": "markdown",
   "metadata": {},
   "source": [
    "## Summary Statistics"
   ]
  },
  {
   "cell_type": "code",
   "execution_count": null,
   "metadata": {},
   "outputs": [],
   "source": [
    "df.describe() # on the whole dataframe"
   ]
  },
  {
   "cell_type": "code",
   "execution_count": null,
   "metadata": {},
   "outputs": [],
   "source": [
    "df.close.describe() # on a series"
   ]
  },
  {
   "cell_type": "markdown",
   "metadata": {},
   "source": [
    "The describe() method gives you another dataframe, which you can save"
   ]
  },
  {
   "cell_type": "code",
   "execution_count": null,
   "metadata": {},
   "outputs": [],
   "source": [
    "summary_stats = df.describe()"
   ]
  },
  {
   "cell_type": "markdown",
   "metadata": {},
   "source": [
    "This exports nicely to a variety of formats.\n",
    "\n",
    "\n",
    "## Exporting Data"
   ]
  },
  {
   "cell_type": "code",
   "execution_count": null,
   "metadata": {},
   "outputs": [],
   "source": [
    "df.to_stata('msft_returns.dta', write_index=False) #I don't want to include the index\n",
    "summary_stats.to_excel('msft_sum_stats.xlsx', index=False) # note idiosyncracy between write_index in to_stata and index here"
   ]
  },
  {
   "cell_type": "markdown",
   "metadata": {},
   "source": [
    "## Importing Data"
   ]
  },
  {
   "cell_type": "code",
   "execution_count": null,
   "metadata": {},
   "outputs": [],
   "source": [
    "df = \"rewritten string - we'll need to load the dataframe\"\n",
    "print(df)"
   ]
  },
  {
   "cell_type": "code",
   "execution_count": null,
   "metadata": {},
   "outputs": [],
   "source": [
    "df = pd.read_stata('msft_returns.dta')"
   ]
  },
  {
   "cell_type": "code",
   "execution_count": null,
   "metadata": {},
   "outputs": [],
   "source": [
    "df.head()"
   ]
  },
  {
   "cell_type": "code",
   "execution_count": null,
   "metadata": {},
   "outputs": [],
   "source": []
  }
 ],
 "metadata": {
  "kernelspec": {
   "display_name": "Python 3",
   "language": "python",
   "name": "python3"
  },
  "language_info": {
   "codemirror_mode": {
    "name": "ipython",
    "version": 3
   },
   "file_extension": ".py",
   "mimetype": "text/x-python",
   "name": "python",
   "nbconvert_exporter": "python",
   "pygments_lexer": "ipython3",
   "version": "3.7.1"
  }
 },
 "nbformat": 4,
 "nbformat_minor": 2
}
