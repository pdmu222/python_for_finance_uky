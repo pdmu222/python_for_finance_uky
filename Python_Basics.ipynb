{
 "cells": [
  {
   "cell_type": "markdown",
   "metadata": {},
   "source": [
    "<span style=\"font-size:300%; text-align: center;\"><b> Some Basics in Python</b></span>\n",
    "\n",
    "- This should serve as a quick reference sheet.\n"
   ]
  },
  {
   "cell_type": "code",
   "execution_count": null,
   "metadata": {},
   "outputs": [],
   "source": [
    "#In order for the system to return information to us in the console, we usually need the print function:\n",
    "\n",
    "print('Hello World')"
   ]
  },
  {
   "cell_type": "markdown",
   "metadata": {},
   "source": [
    "# Strings"
   ]
  },
  {
   "cell_type": "code",
   "execution_count": null,
   "metadata": {},
   "outputs": [],
   "source": [
    "#Strings are a type of data. We can store data in variables. \n",
    "\n",
    "my_string1 = 'This is a string. '\n",
    "my_string2 = 'Strings are a set of characters within quotes. '\n",
    "my_string3 = 'We can concatenate strings by adding them together.'\n",
    "\n",
    "my_string = my_string1 + my_string2 + my_string3\n",
    "\n",
    "print(my_string)"
   ]
  },
  {
   "cell_type": "code",
   "execution_count": null,
   "metadata": {},
   "outputs": [],
   "source": [
    "my_string4 = 'We can also multiply strings!  '\n",
    "print(my_string4*10)"
   ]
  },
  {
   "cell_type": "markdown",
   "metadata": {},
   "source": [
    "# Indexing Strings"
   ]
  },
  {
   "cell_type": "code",
   "execution_count": null,
   "metadata": {},
   "outputs": [],
   "source": [
    "my_string5 = '123456789'\n",
    "print(my_string5)\n",
    "print(my_string5[0:5]) #note that Python uses zero-indexing"
   ]
  },
  {
   "cell_type": "markdown",
   "metadata": {},
   "source": [
    "# Numerical Values and Calculations in Python\n",
    "\n",
    "There are several types of numerical values in Python. Integers and floating point numbers are the most common."
   ]
  },
  {
   "cell_type": "code",
   "execution_count": null,
   "metadata": {},
   "outputs": [],
   "source": [
    "my_number = 20\n",
    "print(type(my_number))"
   ]
  },
  {
   "cell_type": "code",
   "execution_count": null,
   "metadata": {},
   "outputs": [],
   "source": [
    "my_new_number = 20.0\n",
    "print(type(my_new_number))"
   ]
  },
  {
   "cell_type": "code",
   "execution_count": null,
   "metadata": {},
   "outputs": [],
   "source": [
    "print(my_number + my_new_number)\n",
    "print(type(my_number + my_new_number))"
   ]
  },
  {
   "cell_type": "markdown",
   "metadata": {},
   "source": [
    "We can print multiple items within a single print() call"
   ]
  },
  {
   "cell_type": "code",
   "execution_count": null,
   "metadata": {},
   "outputs": [],
   "source": [
    "print('2 + 2 =', 2+2)\n",
    "print('2 - 2 =', 2-2)\n",
    "print('2 * 2 =', 2*2)\n",
    "print('2 / 2 =', 2/2)\n",
    "print('2^2, written as 2**2 in Python, is equal to', 2**2)"
   ]
  },
  {
   "cell_type": "markdown",
   "metadata": {},
   "source": [
    "We can store the value of a calculation as a variable"
   ]
  },
  {
   "cell_type": "code",
   "execution_count": null,
   "metadata": {},
   "outputs": [],
   "source": [
    "y = 2+2\n",
    "print(y)"
   ]
  },
  {
   "cell_type": "markdown",
   "metadata": {},
   "source": [
    "Booleans take on values of either True or False. They are useful for logical conditions."
   ]
  },
  {
   "cell_type": "code",
   "execution_count": null,
   "metadata": {},
   "outputs": [],
   "source": [
    "boolean_var = True\n",
    "print(boolean_var)"
   ]
  },
  {
   "cell_type": "markdown",
   "metadata": {},
   "source": [
    "# Combining Strings and Numerical Variables"
   ]
  },
  {
   "cell_type": "code",
   "execution_count": null,
   "metadata": {},
   "outputs": [],
   "source": [
    "#We can print strings with the value of a variable\n",
    "year = 2019\n",
    "print('The current year is {0}.'.format(year))"
   ]
  },
  {
   "cell_type": "code",
   "execution_count": null,
   "metadata": {},
   "outputs": [],
   "source": [
    "print(f'You can also write this as an f-string and insert {year} as the year this way.')"
   ]
  },
  {
   "cell_type": "markdown",
   "metadata": {},
   "source": [
    "You can make insert as many variables into the string as you like. Here's an example you might use to make an exam question:"
   ]
  },
  {
   "cell_type": "code",
   "execution_count": null,
   "metadata": {},
   "outputs": [],
   "source": [
    "# Time-value-of-money problem\n",
    "PV = 5\n",
    "T = 10\n",
    "R = 6\n",
    "print('Question: You have {0} dollars in the bank today. In what will the value be in {1} years \\\n",
    "if the annual interest rate is {2}% compounded annualy?'.format(PV,T,R))\n",
    "#note the the \"\\\" to wrap the text"
   ]
  },
  {
   "cell_type": "code",
   "execution_count": null,
   "metadata": {},
   "outputs": [],
   "source": [
    "answer = PV*(1+(R/100))**T\n",
    "print('Answer: {0} dollars.'.format(answer))\n",
    "#Too much information in the decimal: let's round this\n",
    "answer = round(answer, 2)\n",
    "print('Answer: ${0}.'.format(answer))"
   ]
  },
  {
   "cell_type": "markdown",
   "metadata": {},
   "source": [
    "# Logical Conditions\n",
    "\n",
    "Logical statements control what code gets executed"
   ]
  },
  {
   "cell_type": "code",
   "execution_count": null,
   "metadata": {},
   "outputs": [],
   "source": [
    "SP500 = 2500\n",
    "if SP500 < 2000:\n",
    "    print('The S&P 500 is not at an all time high.')\n",
    "else: \n",
    "    print('The S&P 500 is close to its all time high!')\n",
    "    \n",
    "# Conditions: <=, >=, ==, >, <\n",
    "# note that when assigning a variable, equals is \"=\", but when checking a condition, it's \"==\""
   ]
  },
  {
   "cell_type": "markdown",
   "metadata": {},
   "source": [
    "# Lists, Tuples, and Dictionaries"
   ]
  },
  {
   "cell_type": "markdown",
   "metadata": {},
   "source": [
    "## Lists"
   ]
  },
  {
   "cell_type": "markdown",
   "metadata": {},
   "source": [
    "Suppose we had a portfolio with 4 stocks.\n",
    "\n",
    "Storing data for each stock as a variable is probably not the optimal way:"
   ]
  },
  {
   "cell_type": "code",
   "execution_count": null,
   "metadata": {},
   "outputs": [],
   "source": [
    "stock1 = 'AAPL'\n",
    "stock2 = 'MSFT'\n",
    "stock3 = 'AMZN'\n",
    "stock4 = 'KR'"
   ]
  },
  {
   "cell_type": "markdown",
   "metadata": {},
   "source": [
    "Instead, we can make a list:"
   ]
  },
  {
   "cell_type": "code",
   "execution_count": null,
   "metadata": {},
   "outputs": [],
   "source": [
    "stocks = [stock1, stock2, stock3, stock4]\n",
    "print(stocks)"
   ]
  },
  {
   "cell_type": "markdown",
   "metadata": {},
   "source": [
    "This is equivalent to defining the stocks directly as string"
   ]
  },
  {
   "cell_type": "code",
   "execution_count": null,
   "metadata": {},
   "outputs": [],
   "source": [
    "stocks = ['AAPL', 'MSFT', 'AMZN', 'KR']\n",
    "print(stocks)"
   ]
  },
  {
   "cell_type": "markdown",
   "metadata": {},
   "source": [
    "Lists are ordered; we can use this to slice them. Note the zero-indexing:"
   ]
  },
  {
   "cell_type": "code",
   "execution_count": null,
   "metadata": {},
   "outputs": [],
   "source": [
    "print(stocks[0])\n",
    "print(stocks[0:1])\n",
    "print(stocks[1:])\n",
    "print(stocks[:-1])"
   ]
  },
  {
   "cell_type": "markdown",
   "metadata": {},
   "source": [
    "Lists are mutable - we can change their values"
   ]
  },
  {
   "cell_type": "code",
   "execution_count": null,
   "metadata": {},
   "outputs": [],
   "source": [
    "stocks[0] = 'GOOGL'\n",
    "print(stocks)"
   ]
  },
  {
   "cell_type": "markdown",
   "metadata": {},
   "source": [
    "## Tuples\n",
    "Tuples are like lists, but are immutable. This makes them more memory efficient."
   ]
  },
  {
   "cell_type": "code",
   "execution_count": null,
   "metadata": {},
   "outputs": [],
   "source": [
    "stock_tuple = ('AAPL', 'MSFT', 'AMZN', 'KR')\n",
    "print(stock_tuple[0])\n",
    "#stock_tuple[0] = 'GOOGL' #this will give an error"
   ]
  },
  {
   "cell_type": "markdown",
   "metadata": {},
   "source": [
    "Try reassigning an item within a tuple. It won't work:"
   ]
  },
  {
   "cell_type": "code",
   "execution_count": null,
   "metadata": {},
   "outputs": [],
   "source": [
    "stock_tuple[0] = 'GOOGL' #this will give an error"
   ]
  },
  {
   "cell_type": "markdown",
   "metadata": {},
   "source": [
    "Lists can be nested within other lists:"
   ]
  },
  {
   "cell_type": "code",
   "execution_count": null,
   "metadata": {},
   "outputs": [],
   "source": [
    "stock1 = ['AAPL', 'Apple']\n",
    "stock2 = ['MSFT', 'Microsoft']\n",
    "stock3 = ['AMZN', 'Amazon']\n",
    "stock4 = ['KR', 'Kroger']\n",
    "stocks = [stock1, stock2, stock3, stock4]"
   ]
  },
  {
   "cell_type": "markdown",
   "metadata": {},
   "source": [
    "We can slice on the list within the list:"
   ]
  },
  {
   "cell_type": "code",
   "execution_count": null,
   "metadata": {},
   "outputs": [],
   "source": [
    "#Slicing on list of lists\n",
    "print(stocks[1])\n",
    "print(stocks[1][0])\n",
    "print(stocks[1][1])"
   ]
  },
  {
   "cell_type": "markdown",
   "metadata": {},
   "source": [
    "## Dictionaries\n",
    "\n",
    "Dictionaries let us store and retreive information. They are unordered so we don't have to worry about the index number."
   ]
  },
  {
   "cell_type": "code",
   "execution_count": null,
   "metadata": {},
   "outputs": [],
   "source": [
    "stock_dictionary = {'AAPL': 'Apple', 'MSFT':'Microsoft','AMZN':'Amazon','KR': 'Kroger'}\n",
    "print('Question: What is the company associated with the ticker MSFT?')\n",
    "print('Answer: ', stock_dictionary['MSFT'])"
   ]
  },
  {
   "cell_type": "markdown",
   "metadata": {},
   "source": [
    "We can add and delete items from the dictionary:"
   ]
  },
  {
   "cell_type": "code",
   "execution_count": null,
   "metadata": {},
   "outputs": [],
   "source": [
    "stock_dictionary['GOOGL'] = 'Alphabet' #adding an item\n",
    "print(stock_dictionary)\n",
    "del stock_dictionary['AAPL'] #deleting an item\n",
    "print(stock_dictionary)"
   ]
  },
  {
   "cell_type": "markdown",
   "metadata": {},
   "source": [
    "We can have lists within dictionaries"
   ]
  },
  {
   "cell_type": "code",
   "execution_count": null,
   "metadata": {},
   "outputs": [],
   "source": [
    "stock_dictionary = {'AAPL': ['Apple', 170], 'MSFT':['Microsoft', 80],'AMZN':['Amazon', 1125],'KR': ['Kroger', 22]}\n",
    "stock_dictionary['MSFT'][1]"
   ]
  },
  {
   "cell_type": "markdown",
   "metadata": {},
   "source": [
    "Extracting the dictionary keys into a list:"
   ]
  },
  {
   "cell_type": "code",
   "execution_count": null,
   "metadata": {},
   "outputs": [],
   "source": [
    "dictionary_keys = stock_dictionary.keys() #keys is not a list\n",
    "ticker_list = list(dictionary_keys) #make keys into an iterable list\n",
    "print(ticker_list)"
   ]
  },
  {
   "cell_type": "markdown",
   "metadata": {},
   "source": [
    "## Loops\n",
    "\n",
    "Iterate a set of commands over a range or a list:"
   ]
  },
  {
   "cell_type": "code",
   "execution_count": null,
   "metadata": {},
   "outputs": [],
   "source": [
    "# iterate over a range\n",
    "\n",
    "for x in range(2010,2021):\n",
    "    if x%4==0:\n",
    "        print(f'Presedential Election in year {x}.')\n",
    "\n",
    "#Note: the modulus % gets the remainder of a division."
   ]
  },
  {
   "cell_type": "code",
   "execution_count": null,
   "metadata": {},
   "outputs": [],
   "source": [
    "#Loops -- we can iterate over a list\n",
    "for tic in ticker_list:\n",
    "    print(stock_dictionary[tic])\n",
    "for tic in ticker_list:\n",
    "    name = stock_dictionary[tic][0]\n",
    "    price = stock_dictionary[tic][1]\n",
    "    print('{0} is trading at around {1} dollars today.'.format(name, price))"
   ]
  },
  {
   "cell_type": "markdown",
   "metadata": {},
   "source": [
    "Loops with embedded logical conditions. Note how indentation is used:"
   ]
  },
  {
   "cell_type": "code",
   "execution_count": null,
   "metadata": {},
   "outputs": [],
   "source": [
    "#Logical conditions within our loop\n",
    "for tic in ticker_list:\n",
    "    name = stock_dictionary[tic][0]\n",
    "    price = stock_dictionary[tic][1]\n",
    "    if price > 1000: # other comparisons include != == >= <=\n",
    "        print('{0} costs over a thousand dollars per share!'.format(name))\n",
    "    elif price < 100:\n",
    "        print('{0} costs under one hundred dollars per share.'.format(name))\n",
    "    else:\n",
    "        print('{0} is priced somewhere between 100 and 1000 dollars.'.format(name))"
   ]
  },
  {
   "cell_type": "markdown",
   "metadata": {},
   "source": [
    "# Functions\n",
    "\n",
    "Writing functions will make the code much more readable. Functions can also be recycled and imported into other projects."
   ]
  },
  {
   "cell_type": "code",
   "execution_count": null,
   "metadata": {},
   "outputs": [],
   "source": [
    "def calc_pv(fv, r, t):\n",
    "    pv = fv/((1+r)**t)\n",
    "    pv = round(pv,2)\n",
    "    return pv"
   ]
  },
  {
   "cell_type": "markdown",
   "metadata": {},
   "source": [
    "To call the function, write it out with the parameter values:"
   ]
  },
  {
   "cell_type": "code",
   "execution_count": null,
   "metadata": {},
   "outputs": [],
   "source": [
    "calc_pv(200,0.05, 12)"
   ]
  },
  {
   "cell_type": "markdown",
   "metadata": {},
   "source": [
    "When writing any lengthy code that can be generalized, it's best to write a function. That way you can call it later and keep your code as readable as possible. This works well when nested within a loop."
   ]
  },
  {
   "cell_type": "markdown",
   "metadata": {},
   "source": [
    "# Reading and Writing Files\n",
    "\n",
    "To read a text file:"
   ]
  },
  {
   "cell_type": "code",
   "execution_count": null,
   "metadata": {},
   "outputs": [],
   "source": [
    "with open('example_text.txt', 'r') as f:\n",
    "    text = f.read()\n",
    "# opens example_text.txt. Since there is no directory, it looks for the file in the cwd()"
   ]
  },
  {
   "cell_type": "markdown",
   "metadata": {},
   "source": [
    "If this runs without an error, try printing the text:"
   ]
  },
  {
   "cell_type": "code",
   "execution_count": null,
   "metadata": {},
   "outputs": [],
   "source": [
    "print(text)"
   ]
  },
  {
   "cell_type": "markdown",
   "metadata": {},
   "source": [
    "If the file is in your current working directory, no additional context is needed to find the file. Often, you'll have your .py file in a different directory. In fact, it's often better to have your code separate from your data: it's easier to browse your files and sometimes data comes from a remote directory.\n",
    "\n",
    "When dealing with directories, it's useful to be aware of the os libary."
   ]
  },
  {
   "cell_type": "code",
   "execution_count": null,
   "metadata": {},
   "outputs": [],
   "source": [
    "import os # import the os library. It comes with Python automatically. Other libraries you'll need to download separately.\n",
    "print(os.getcwd()) # print the output from the getcwd() function within the os module"
   ]
  },
  {
   "cell_type": "markdown",
   "metadata": {},
   "source": [
    "The above function returns us the current working directory. If your file is elsewhere, for now it's easy to simply specify the whole path. Since there are backslashes, we'll put an 'r' in front of the string to tell Python to read string literal:"
   ]
  },
  {
   "cell_type": "code",
   "execution_count": null,
   "metadata": {},
   "outputs": [],
   "source": [
    "with open(r'C:\\Users\\mf\\Desktop\\example_text.txt', 'r') as f:\n",
    "    text = f.read()\n",
    "print(text)"
   ]
  },
  {
   "cell_type": "markdown",
   "metadata": {},
   "source": [
    "To emphasize the difference, these strings are equivalent:"
   ]
  },
  {
   "cell_type": "code",
   "execution_count": null,
   "metadata": {},
   "outputs": [],
   "source": [
    "print(r'C:\\Users\\Desktop\\example_text.txt')\n",
    "print('C:\\\\Users\\\\Desktop\\\\example_text.txt')"
   ]
  },
  {
   "cell_type": "markdown",
   "metadata": {},
   "source": [
    "# A Little More About the OS Library\n",
    "\n",
    "This lets you do many things, such as: list your directory, rename, and delete files."
   ]
  },
  {
   "cell_type": "code",
   "execution_count": null,
   "metadata": {},
   "outputs": [],
   "source": [
    "path = os.getcwd() # create path as current working directory\n",
    "print(os.listdir(path)) # what files and folders are in the directory? note that any other valid path would work too."
   ]
  },
  {
   "cell_type": "markdown",
   "metadata": {},
   "source": [
    "Rename a file:"
   ]
  },
  {
   "cell_type": "code",
   "execution_count": null,
   "metadata": {},
   "outputs": [],
   "source": [
    "os.rename('example_text.txt', 'renamed_example_text.txt')"
   ]
  },
  {
   "cell_type": "markdown",
   "metadata": {},
   "source": [
    "Delete the file:"
   ]
  },
  {
   "cell_type": "code",
   "execution_count": null,
   "metadata": {},
   "outputs": [],
   "source": [
    "os.remove('renamed_example_text.txt')"
   ]
  },
  {
   "cell_type": "markdown",
   "metadata": {},
   "source": [
    "# The Pickle Module: Pickling and Unpickling\n",
    "\n",
    "It's a strange name but it's useful. It probably refers to putting pickles in a jar and then  returning some time later, opening the jar and then eating the the pickles.\n",
    "\n",
    "When you have a python object and want to save it to disk, you can pickle it. The module will serialize the data into binary and lets you write it to disk. \n",
    "\n",
    "Suppose you had a dictionary and wanted to save it to disk:"
   ]
  },
  {
   "cell_type": "code",
   "execution_count": null,
   "metadata": {},
   "outputs": [],
   "source": [
    "import pickle\n",
    "\n",
    "stock_dictionary = {'AAPL': ['Apple', 170], 'MSFT':['Microsoft', 80],'AMZN':['Amazon', 1125],'KR': ['Kroger', 22]}\n",
    "\n",
    "pickle.dump(stock_dictionary, open('stock_dict.pkl', 'wb'))\n"
   ]
  },
  {
   "cell_type": "markdown",
   "metadata": {},
   "source": [
    "Bringing it back is just as easy. First, overwrite stock_dictionary to show that it works:"
   ]
  },
  {
   "cell_type": "code",
   "execution_count": null,
   "metadata": {},
   "outputs": [],
   "source": [
    "stock_dictionary = \"I've overwritten the content. It's now a string. Can we unpickle the dictionary?\"\n",
    "print(stock_dictionary, type(stock_dictionary))"
   ]
  },
  {
   "cell_type": "code",
   "execution_count": null,
   "metadata": {},
   "outputs": [],
   "source": [
    "stock_dictionary = pickle.load(open('stock_dict.pkl', 'rb')) # note 'rb' means read binary; it's not text"
   ]
  },
  {
   "cell_type": "code",
   "execution_count": null,
   "metadata": {},
   "outputs": [],
   "source": [
    "print(stock_dictionary)"
   ]
  },
  {
   "cell_type": "markdown",
   "metadata": {},
   "source": [
    "# You Don't Always Have to Pickle\n",
    "\n",
    "Pickles aren't perfect. They more susceptible to becoming corrupted than text files. You also can't read them in text form.\n",
    "\n",
    "Sometimes there is a better way. For example, you could convert a dictionary to JSON and then save the JSON to disk.\n",
    "\n",
    "## To JSON and Back\n",
    "- JSON files are very similar to dictionaries. They're prevalent on many webpages and store data for elements such as tables and graphs."
   ]
  },
  {
   "cell_type": "code",
   "execution_count": null,
   "metadata": {},
   "outputs": [],
   "source": [
    "import json\n",
    "\n",
    "stock_json = json.dumps(stock_dictionary)\n",
    "\n",
    "print(stock_json)"
   ]
  },
  {
   "cell_type": "code",
   "execution_count": null,
   "metadata": {},
   "outputs": [],
   "source": [
    "with open('stock.json', 'w') as f:\n",
    "    f.write(stock_json)"
   ]
  },
  {
   "cell_type": "markdown",
   "metadata": {},
   "source": [
    "Again, we'll overwrite stock_dictionary"
   ]
  },
  {
   "cell_type": "code",
   "execution_count": null,
   "metadata": {},
   "outputs": [],
   "source": [
    "stock_dictionary = \"I've overwritten the content. It's now a string.\"\n",
    "stock_json = \"Can we get the dictionary back from JSON?\"\n",
    "print(stock_dictionary, type(stock_dictionary))\n",
    "print(stock_json, type(stock_dictionary))"
   ]
  },
  {
   "cell_type": "markdown",
   "metadata": {},
   "source": [
    "Read stock.json (on the disk) to define stock_json again:"
   ]
  },
  {
   "cell_type": "code",
   "execution_count": null,
   "metadata": {},
   "outputs": [],
   "source": [
    "with open('stock.json', 'r') as f:\n",
    "    stock_json = f.read()    "
   ]
  },
  {
   "cell_type": "markdown",
   "metadata": {},
   "source": [
    "Now use json.loads() to rewrite it as a dictionary:"
   ]
  },
  {
   "cell_type": "code",
   "execution_count": null,
   "metadata": {},
   "outputs": [],
   "source": [
    "stock_dictionary = json.loads(stock_json)"
   ]
  },
  {
   "cell_type": "code",
   "execution_count": null,
   "metadata": {},
   "outputs": [],
   "source": [
    "print(stock_dictionary)"
   ]
  },
  {
   "cell_type": "markdown",
   "metadata": {},
   "source": [
    "You can also use Pandas to read and write tabular files. We'll cover this in another notebook."
   ]
  },
  {
   "cell_type": "code",
   "execution_count": null,
   "metadata": {},
   "outputs": [],
   "source": []
  }
 ],
 "metadata": {
  "kernelspec": {
   "display_name": "Python 3",
   "language": "python",
   "name": "python3"
  },
  "language_info": {
   "codemirror_mode": {
    "name": "ipython",
    "version": 3
   },
   "file_extension": ".py",
   "mimetype": "text/x-python",
   "name": "python",
   "nbconvert_exporter": "python",
   "pygments_lexer": "ipython3",
   "version": "3.7.1"
  }
 },
 "nbformat": 4,
 "nbformat_minor": 2
}
